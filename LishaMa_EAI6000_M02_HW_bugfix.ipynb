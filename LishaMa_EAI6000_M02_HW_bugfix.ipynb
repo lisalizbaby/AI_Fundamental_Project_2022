{
 "cells": [
  {
   "cell_type": "markdown",
   "metadata": {
    "id": "dB4_y4GBm0tt"
   },
   "source": [
    "# A-Star Search Algorithm"
   ]
  },
  {
   "cell_type": "markdown",
   "metadata": {
    "id": "hRmWMPwTm5Ob"
   },
   "source": [
    "This notebook complements the walkthrough article [here](https://towardsdatascience.com/a-star-a-search-algorithm-eb495fb156bb) on the A-Star search algorithm. Throughout the notebook, we ask to you finish sections on your own and answer questions."
   ]
  },
  {
   "cell_type": "markdown",
   "metadata": {
    "id": "auBnTGWHoMle"
   },
   "source": [
    "## [Question - Describe A*]\n",
    "Describe A* search in your own words."
   ]
  },
  {
   "cell_type": "markdown",
   "metadata": {
    "id": "6CHKWWC5YiWu"
   },
   "source": [
    "The A* (A-Star) algorithm is the most effective direct search method for finding the shortest and quickest path in a static road network, and it is also a practical algorithm for solving many search problems. As one of the heuristic search algorithms, this is for finding the lowest pass cost for paths with multiple nodes on the graph plane. The closer the distance estimate in the algorithm is to the actual value, the faster the final search will be.\n",
    "\n",
    "                  Formula: f(n)=g(n)+h(n)\n",
    "where f(n) is the estimate for each possible tentative point, which consists of two parts:\n",
    "\n",
    "Part, g(n) represents the cost from the starting search point to the current point (usually expressed by the depth of a node in the search tree).\n",
    "\n",
    "The other part, h(n), represents the most important part of the heuristic search, that is, the evaluation from the current node to the target node,\n",
    "\n",
    "A sufficient condition for a heuristic algorithm with f(n)=g(n)+h(n) strategy to be an A* algorithm is:\n",
    "\n",
    "There is an optimal path from the start to the endpoint in the search tree.\n",
    "The problem domain is limited.\n",
    "The search cost of the child nodes of all nodes is > 0.\n",
    "h(n)=<h(n) (h(n) is the cost value of the actual problem).\n",
    "When these four conditions are satisfied, a heuristic algorithm with f(n)=g(n)+h(n) strategy can become the A* algorithm, and it will find the optimal solution.\n",
    "\n",
    "The core process of the A* algorithm is that every time the next current search point is selected, the f value is selected from all detected but not searched points (maybe different layers or not on the same branch). The smallest node is expanded. And all \"detected but not searched points\" can be arranged through a queue in ascending order of value (i.e., a priority queue). In this way, in the overall search process, as long as the first element (f value) is popped from the priority queue according to a similar breadth-first algorithm framework, the values of g, h and f are calculated for its possible child nodes until the priority queue is empty (no solution), or until the end point is found."
   ]
  },
  {
   "cell_type": "markdown",
   "metadata": {
    "id": "XGXfplMcYkbe"
   },
   "source": [
    "Some examples briefly describe the method of the A* shortest path algorithm:\n",
    "\n",
    "Goal: Find the shortest walking path from the current position A to the target position B.\n",
    "\n",
    "Method: Starting from point A, traverse all the traversable paths, record them in a structure, and record the content as (position point, minimum number of steps)\n",
    "\n",
    "When any second time to a point, judge whether the minimum step is smaller than the recorded content; if so, update the original minimum number of steps until all the path points can no longer continue, and finally that point is marked The minimum number of steps is both the shortest path. The shortest path is formed by finding the points whose steps are connected to it in reverse by one less value in succession. When multiple points are the same, you can choose anyone."
   ]
  },
  {
   "cell_type": "markdown",
   "metadata": {
    "id": "FsP7pSLAoooN"
   },
   "source": [
    "## [Question - Describe h and g]\n",
    "In A* search, describe the two key elements of *f(n)* (namely *h(n)* and *g(n)*). What do they represent in the algorithm and how do they differ?"
   ]
  },
  {
   "cell_type": "markdown",
   "metadata": {
    "id": "iitTHz56Ypu-"
   },
   "source": [
    "As we talk about in Question A, g(n) is the cost of the path from the start node to node n, and h(n) is the estimate of the minimum cost path from n node to the Goal node. f(n) = estimated cost of least-cost solution through node n If we want to find the least-cost solution, it is reasonable to expand the node with the smallest value of g(n) + h(n) first. It can be found that this strategy is not only reasonable: assuming that the heuristic function h(m) satisfies certain conditions, the A* search is both complete and optimal. The algorithm is similar to uniform cost search, except that A* uses g+h instead of g.\n",
    "\n",
    "We next use the simplest example to illustrate the difference between g(n) and h(n)\n",
    "\n",
    "For example, A* works well for positioning in online games, the game of cubes we're talking about here. We use a square block as the unit of the pathfinding algorithm. Our search area can simply be represented by a two-dimensional array the size of a map. So if the map is 2525 squares, our search area will be an array of 625 squares. If we divide the map into pixels, the search area is an array of 640,000 squares (a square is 3232 pixels). We will give each square a G+H sum value:\n",
    "\n",
    "G is the amount of movement from the starting point A to the current square. So the amount of movement from the starting point A to the adjacent small square is 1, and this value will increase as it gets farther and farther from the starting point.\n",
    "\n",
    "H is an estimate of the amount of movement from the current block to the target point (let's call it to point B). This is often called a visitation because we are not sure what the amount of movement is - just an estimate. The closer the movement estimate is to the true value, the more accurate the final path will be. If the estimates stop working, it is likely that the resulting path will not be the shortest (but it may be close)."
   ]
  },
  {
   "cell_type": "markdown",
   "metadata": {
    "id": "-_VkEgNWuMDK"
   },
   "source": [
    "## [Activity - run Node]\n",
    "Examine and run the below code."
   ]
  },
  {
   "cell_type": "code",
   "execution_count": 1,
   "metadata": {
    "id": "ufRvBVJBmmxA"
   },
   "outputs": [],
   "source": [
    "\n",
    "class Node():\n",
    "    \"\"\"A node class for A* Pathfinding\"\"\"\n",
    "\n",
    "    def __init__(self, parent=None, position=None):\n",
    "        self.parent = parent\n",
    "        self.position = position\n",
    "\n",
    "        self.g = 0\n",
    "        self.h = 0\n",
    "        self.f = 0\n",
    "\n",
    "    def __eq__(self, other):\n",
    "        return self.position == other.position"
   ]
  },
  {
   "cell_type": "markdown",
   "metadata": {
    "id": "Ucsmb_lfuTrp"
   },
   "source": [
    "## [Question - Explain 'Node']\n",
    "In your own words, describe what the purpose of the *Node* class is. Why do we have to initialize a parent and a position?"
   ]
  },
  {
   "cell_type": "markdown",
   "metadata": {
    "id": "zHBE-vUfY-mW"
   },
   "source": [
    "Nodes are created by implementing a class that will hold pointers and data elements. In the example below, we create a class called Node to class for A* Pathfinding.\n",
    "\n",
    "\n",
    "Assume that node self. g represents starting node to any n node, self.h represents any node n to the goal node and self.f represents the lowest cost.\n",
    "The g pointer of these three nodes points to h, and the pointer of node f points to h.\n",
    "\n",
    "\n",
    "A node is a concept similar to a class, which can be understood as one node with different functions. Like students and teachers are different, teachers teach, students learn.\n",
    "\n",
    "\n",
    "(_init) is to initialize all member variables, parent, and position as a default parameter. If a value is given, self. parent is a member variable, and the value parenrt=none is attached to this self. parent,\n",
    "\n",
    "\n",
    "(_eq_) is only used to judge whether the number wants to wait or not, == is used to judge whether the position is equal, used to compare two entities.\n",
    "Additional operations such as insertions and deletions can be done by implementing appropriate methods using this node container in common data structures such as linked lists and trees."
   ]
  },
  {
   "cell_type": "markdown",
   "metadata": {
    "id": "B6s0TVMuur8t"
   },
   "source": [
    "## [Activity - Run astar() ]"
   ]
  },
  {
   "cell_type": "code",
   "execution_count": null,
   "metadata": {
    "id": "wYzrkdjZpxZs"
   },
   "outputs": [],
   "source": [
    "def astar(maze, start, end):\n",
    "    \"\"\"Returns a list of tuples as a path from the given start to the given end in the given maze\"\"\"\n",
    "\n",
    "    # Create start and end node\n",
    "    start_node = Node(None, start)\n",
    "    start_node.g = start_node.h = start_node.f = 0\n",
    "    end_node = Node(None, end)\n",
    "    end_node.g = end_node.h = end_node.f = 0\n",
    "\n",
    "    # Initialize both open and closed list\n",
    "    open_list = []\n",
    "    closed_list = []\n",
    "\n",
    "    # Add the start node\n",
    "    open_list.append(start_node)\n",
    "\n",
    "    # Loop until you find the end\n",
    "    while len(open_list) > 0:\n",
    "\n",
    "        # Get the current node\n",
    "        current_node = open_list[0]\n",
    "        current_index = 0\n",
    "        for index, item in enumerate(open_list):\n",
    "            if item.f < current_node.f:\n",
    "                current_node = item\n",
    "                current_index = index\n",
    "\n",
    "        # Pop current off open list, add to closed list\n",
    "        open_list.pop(current_index)\n",
    "        closed_list.append(current_node)\n",
    "\n",
    "        # Found the goal\n",
    "        if current_node == end_node:\n",
    "            path = []\n",
    "            current = current_node\n",
    "            while current is not None:\n",
    "                path.append(current.position)\n",
    "                current = current.parent\n",
    "            return path[::-1] # Return reversed path\n",
    "\n",
    "        # Generate children\n",
    "        children = []\n",
    "        for new_position in [(0, -1), (0, 1), (-1, 0), (1, 0), (-1, -1), (-1, 1), (1, -1), (1, 1)]: # Adjacent squares\n",
    "\n",
    "            # Get node position\n",
    "            node_position = (current_node.position[0] + new_position[0], current_node.position[1] + new_position[1])\n",
    "\n",
    "            # Make sure within range\n",
    "            if node_position[0] > (len(maze) - 1) or node_position[0] < 0 or node_position[1] > (len(maze[len(maze)-1]) -1) or node_position[1] < 0:\n",
    "                continue\n",
    "\n",
    "            # Make sure walkable terrain\n",
    "            if maze[node_position[0]][node_position[1]] != 0:\n",
    "                continue\n",
    "\n",
    "            # Create new node\n",
    "            new_node = Node(current_node, node_position)\n",
    "\n",
    "            # Append\n",
    "            children.append(new_node)\n",
    "\n",
    "        # Loop through children\n",
    "        for child in children:\n",
    "\n",
    "            # Child is on the closed list\n",
    "            if child in closed_list:\n",
    "              continue\n",
    "\n",
    "            # Create the f, g, and h values\n",
    "            child.g = current_node.g + 1\n",
    "            child.h = ((child.position[0] - end_node.position[0]) ** 2) + ((child.position[1] - end_node.position[1]) ** 2)\n",
    "            child.f = child.g + child.h\n",
    "\n",
    "            # Child is already in the open list\n",
    "            for open_node in open_list:\n",
    "                if child == open_node and child.g > open_node.g:\n",
    "                    continue\n",
    "\n",
    "            # Add the child to the open list\n",
    "            open_list.append(child)\n"
   ]
  },
  {
   "cell_type": "markdown",
   "metadata": {
    "id": "hral7UX2vF0z"
   },
   "source": [
    "## [Question - Explain maze]\n",
    "What type of input should value of *maze* be?"
   ]
  },
  {
   "cell_type": "markdown",
   "metadata": {
    "id": "T5lu39oO3EiW"
   },
   "source": [
    "\n",
    "The type is matrix which arrays in an array. The graph is analyzed from the starting point, and the current grid and the grid that has been passed are marked as 1. Starting from the starting grid, find the path that the current grid can take in the next step, and then randomly select a path that can be walked until If there is no path to go, then return to the cell where other paths can be selected, and continue to explore possible methods until all cells are gone, and the maze is generated. In my maze, I use two tables to search; first, one is called the OPEN table, which represents the set of nodes that have been expanded but not yet visited, and the other is called the CLOSE table, which represents the set of nodes that have been visited. Each cell in my maze has up, down, left, right, and four directions to go. In the M variable, the third dimension stores five values ​​meaning (LEFT, UP, RIGHT, DOWN, CHECK_IF_VISITED). To understand the code, it is best to remember the direction of each number. The last parameter is whether it has been accessed. If it is accessed, it is 1; otherwise, it is 0. After a series of searching for goel nodes, it is not difficult for us to find that there are many paths for the input of this maze, and we have also successfully found them. Again, 0 means passable, 1 means no pass.\n",
    "\n",
    "\n",
    "\n",
    "\n",
    "\n",
    "\n",
    "\n",
    "\n",
    "\n"
   ]
  },
  {
   "cell_type": "markdown",
   "metadata": {
    "id": "EcB70Wbet1-w"
   },
   "source": [
    "## [Question - Build Main]\n",
    "Please use the above code that uses the astar() function to define a path from the beginning to the end of a maze. You can choose how the maze looks and where the start and end are."
   ]
  },
  {
   "cell_type": "code",
   "execution_count": 2,
   "metadata": {
    "colab": {
     "base_uri": "https://localhost:8080/"
    },
    "id": "MY8tTsSbt1XE",
    "outputId": "8d02c49e-5745-4c3a-9e60-693dd5a8f311"
   },
   "outputs": [
    {
     "name": "stdout",
     "output_type": "stream",
     "text": [
      ".█  █           \n",
      ".█              \n",
      ".█  █ ███       \n",
      "......    █ ██  \n",
      "    █.          \n",
      " █   ..█        \n",
      "     █.██ ██   █\n",
      "     █.....█    \n",
      " █   ██ ██.███  \n",
      "     █   ..  ███\n",
      " █   █ ██.████  \n",
      "     █   .█     \n",
      " █   ████.█  ███\n",
      "    ███ █......█\n",
      "            █ ..\n",
      "███ ██  █ █    .\n",
      "[(0, 0), (1, 0), (2, 0), (3, 0), (3, 1), (3, 2), (3, 3), (3, 4), (3, 5), (4, 5), (5, 5), (5, 6), (6, 6), (7, 6), (7, 7), (7, 8), (7, 9), (7, 10), (8, 10), (9, 10), (9, 9), (10, 9), (11, 9), (12, 9), (13, 9), (13, 10), (13, 11), (13, 12), (13, 13), (13, 14), (14, 14), (14, 15), (15, 15)]\n"
     ]
    }
   ],
   "source": [
    "## [Your Code Here]\n",
    "from warnings import warn\n",
    "import heapq\n",
    "class Node:\n",
    "    \"\"\"\n",
    "    A node class for A* Pathfinding\n",
    "    \"\"\"\n",
    "\n",
    "    def __init__(self, parent=None, position=None):\n",
    "        self.parent = parent\n",
    "        self.position = position\n",
    "\n",
    "        self.g = 0\n",
    "        self.h = 0\n",
    "        self.f = 0\n",
    "\n",
    "    def __eq__(self, other):\n",
    "        return self.position == other.position\n",
    "    \n",
    "    def __repr__(self):\n",
    "      return f\"{self.position} - g: {self.g} h: {self.h} f: {self.f}\"\n",
    "\n",
    "    # defining less than for purposes of heap queue\n",
    "    def __lt__(self, other):\n",
    "      return self.f < other.f\n",
    "    \n",
    "    # defining greater than for purposes of heap queue\n",
    "    def __gt__(self, other):\n",
    "      return self.f > other.f\n",
    "\n",
    "def return_path(current_node):\n",
    "    path = []\n",
    "    current = current_node\n",
    "    while current is not None:\n",
    "        path.append(current.position)\n",
    "        current = current.parent\n",
    "    return path[::-1]  # Return reversed path\n",
    "\n",
    "\n",
    "def astar(maze, start, end, allow_diagonal_movement = False):\n",
    "    \"\"\"\n",
    "    Returns a list of tuples as a path from the given start to the given end in the given maze\n",
    "    :param maze:\n",
    "    :param start:\n",
    "    :param end:\n",
    "    :return:\n",
    "    \"\"\"\n",
    "\n",
    "    # Create start and end node\n",
    "    start_node = Node(None, start)\n",
    "    start_node.g = start_node.h = start_node.f = 0\n",
    "    end_node = Node(None, end)\n",
    "    end_node.g = end_node.h = end_node.f = 0\n",
    "\n",
    "    # Initialize both open and closed list\n",
    "    open_list = []\n",
    "    closed_list = []\n",
    "\n",
    "    # Heapify the open_list and Add the start node\n",
    "    heapq.heapify(open_list) \n",
    "    heapq.heappush(open_list, start_node)\n",
    "\n",
    "    # Adding a stop condition\n",
    "    outer_iterations = 0\n",
    "    max_iterations = (len(maze[0]) * len(maze) // 2)\n",
    "\n",
    "    # what squares do we search\n",
    "    adjacent_squares = ((0, -1), (0, 1), (-1, 0), (1, 0),)\n",
    "    if allow_diagonal_movement:\n",
    "        adjacent_squares = ((0, -1), (0, 1), (-1, 0), (1, 0), (-1, -1), (-1, 1), (1, -1), (1, 1),)\n",
    "\n",
    "    # Loop until you find the end\n",
    "    while len(open_list) > 0:\n",
    "        outer_iterations += 1\n",
    "\n",
    "        if outer_iterations > max_iterations:\n",
    "          # if we hit this point return the path such as it is\n",
    "          # it will not contain the destination\n",
    "          warn(\"giving up on pathfinding too many iterations\")\n",
    "          return return_path(current_node)       \n",
    "        \n",
    "        # Get the current node\n",
    "        current_node = heapq.heappop(open_list)\n",
    "        closed_list.append(current_node)\n",
    "\n",
    "        # Found the goal\n",
    "        if current_node == end_node:\n",
    "            return return_path(current_node)\n",
    "\n",
    "        # Generate children\n",
    "        children = []\n",
    "        \n",
    "        for new_position in adjacent_squares: # Adjacent squares\n",
    "\n",
    "            # Get node position\n",
    "            node_position = (current_node.position[0] + new_position[0], current_node.position[1] + new_position[1])\n",
    "\n",
    "            # Make sure within range\n",
    "            if node_position[0] > (len(maze) - 1) or node_position[0] < 0 or node_position[1] > (len(maze[len(maze)-1]) -1) or node_position[1] < 0:\n",
    "                continue\n",
    "\n",
    "            # Make sure walkable terrain\n",
    "            if maze[node_position[0]][node_position[1]] != 0:\n",
    "                continue\n",
    "\n",
    "            # Create new node\n",
    "            new_node = Node(current_node, node_position)\n",
    "\n",
    "            # Append\n",
    "            children.append(new_node)\n",
    "\n",
    "        # Loop through children\n",
    "        for child in children:\n",
    "            # Child is on the closed list\n",
    "            if len([closed_child for closed_child in closed_list if closed_child == child]) > 0:\n",
    "                continue\n",
    "\n",
    "            # Create the f, g, and h values\n",
    "            child.g = current_node.g + 1\n",
    "            child.h = ((child.position[0] - end_node.position[0]) ** 2) + ((child.position[1] - end_node.position[1]) ** 2)\n",
    "            child.f = child.g + child.h\n",
    "\n",
    "            # Child is already in the open list\n",
    "            if len([open_node for open_node in open_list if child.position == open_node.position and child.g > open_node.g]) > 0:\n",
    "                continue\n",
    "\n",
    "            # Add the child to the open list\n",
    "            heapq.heappush(open_list, child)\n",
    "\n",
    "    warn(\"Couldn't get a path to destination\")\n",
    "    return None\n",
    "\n",
    "def example(print_maze = True):\n",
    "\n",
    "    maze = [[0,1,0,0,1,0,0,0,0,0,0,0,0,0,0,0],\n",
    "            [0,1,0,0,0,0,0,0,0,0,0,0,0,0,0,0],\n",
    "            [0,1,0,0,1,0,1,1,1,0,0,0,0,0,0,0],\n",
    "            [0,0,0,0,0,0,0,0,0,0,1,0,1,1,0,0],\n",
    "            [0,0,0,0,1,0,0,0,0,0,0,0,0,0,0,0],\n",
    "            [0,1,0,0,0,0,0,1,0,0,0,0,0,0,0,0],\n",
    "            [0,0,0,0,0,1,0,1,1,0,1,1,0,0,0,1],\n",
    "            [0,0,0,0,0,1,0,0,0,0,0,1,0,0,0,0],\n",
    "            [0,1,0,0,0,1,1,0,1,1,0,1,1,1,0,0],\n",
    "            [0,0,0,0,0,1,0,0,0,0,0,0,0,1,1,1],\n",
    "            [0,1,0,0,0,1,0,1,1,0,1,1,1,1,0,0],\n",
    "            [0,0,0,0,0,1,0,0,0,0,1,0,0,0,0,0],\n",
    "            [0,1,0,0,0,1,1,1,1,0,1,0,0,1,1,1],\n",
    "            [0,0,0,0,1,1,1,0,1,0,0,0,0,0,0,1],\n",
    "            [0,0,0,0,0,0,0,0,0,0,0,0,1,0,0,0],\n",
    "            [1,1,1,0,1,1,0,0,1,0,1,0,0,0,0,0]]\n",
    "    \n",
    "    start = (0, 0)\n",
    "    end = (len(maze)-1, len(maze[0])-1)\n",
    "\n",
    "    path = astar(maze, start, end)\n",
    "\n",
    "    if print_maze:\n",
    "      for step in path:\n",
    "        maze[step[0]][step[1]] = 2\n",
    "      \n",
    "      for row in maze:\n",
    "        line = []\n",
    "        for col in row:\n",
    "          if col == 1:\n",
    "            line.append(\"\\u2588\")\n",
    "          elif col == 0:\n",
    "            line.append(\" \")\n",
    "          elif col == 2:\n",
    "            line.append(\".\")\n",
    "        print(\"\".join(line))\n",
    "\n",
    "    print(path)\n",
    "\n",
    "if __name__ == '__main__':\n",
    "  example()\n",
    "\n",
    "\n"
   ]
  },
  {
   "cell_type": "markdown",
   "metadata": {
    "id": "_t_M9LWSwc79"
   },
   "source": [
    "## [Question - Impossible Maze]\n",
    "Now create a maze that the algorithm cannot solve. What is the output of the algorithm?"
   ]
  },
  {
   "cell_type": "markdown",
   "metadata": {
    "id": "7Sco3fl66g8N"
   },
   "source": [
    "The output of the algorithm shows below with the maze has no where to go."
   ]
  },
  {
   "cell_type": "code",
   "execution_count": 3,
   "metadata": {
    "colab": {
     "base_uri": "https://localhost:8080/"
    },
    "id": "yoQ3fuVbwnuv",
    "outputId": "5e1fdf7f-8822-42b4-d817-eb8431ad0afc"
   },
   "outputs": [
    {
     "name": "stdout",
     "output_type": "stream",
     "text": [
      ".... . \n",
      " █ ... \n",
      "  █    \n",
      "   █   \n",
      "███████\n",
      "[(0, 0), (0, 1), (0, 2), (0, 3), (1, 3), (1, 4), (1, 5), (0, 5)]\n"
     ]
    },
    {
     "name": "stderr",
     "output_type": "stream",
     "text": [
      "/usr/local/lib/python3.7/dist-packages/ipykernel_launcher.py:79: UserWarning: giving up on pathfinding too many iterations\n"
     ]
    }
   ],
   "source": [
    "## [Your Code Here]\n",
    "from warnings import warn\n",
    "import heapq\n",
    "class Node:\n",
    "    \"\"\"\n",
    "    A node class for A* Pathfinding\n",
    "    \"\"\"\n",
    "\n",
    "    def __init__(self, parent=None, position=None):\n",
    "        self.parent = parent\n",
    "        self.position = position\n",
    "\n",
    "        self.g = 0\n",
    "        self.h = 0\n",
    "        self.f = 0\n",
    "\n",
    "    def __eq__(self, other):\n",
    "        return self.position == other.position\n",
    "    \n",
    "    def __repr__(self):\n",
    "      return f\"{self.position} - g: {self.g} h: {self.h} f: {self.f}\"\n",
    "\n",
    "    # defining less than for purposes of heap queue\n",
    "    def __lt__(self, other):\n",
    "      return self.f < other.f\n",
    "    \n",
    "    # defining greater than for purposes of heap queue\n",
    "    def __gt__(self, other):\n",
    "      return self.f > other.f\n",
    "\n",
    "def return_path(current_node):\n",
    "    path = []\n",
    "    current = current_node\n",
    "    while current is not None:\n",
    "        path.append(current.position)\n",
    "        current = current.parent\n",
    "    return path[::-1]  # Return reversed path\n",
    "\n",
    "\n",
    "def astar(maze, start, end, allow_diagonal_movement = False):\n",
    "    \"\"\"\n",
    "    Returns a list of tuples as a path from the given start to the given end in the given maze\n",
    "    :param maze:\n",
    "    :param start:\n",
    "    :param end:\n",
    "    :return:\n",
    "    \"\"\"\n",
    "\n",
    "    # Create start and end node\n",
    "    start_node = Node(None, start)\n",
    "    start_node.g = start_node.h = start_node.f = 0\n",
    "    end_node = Node(None, end)\n",
    "    end_node.g = end_node.h = end_node.f = 0\n",
    "\n",
    "    # Initialize both open and closed list\n",
    "    open_list = []\n",
    "    closed_list = []\n",
    "\n",
    "    # Heapify the open_list and Add the start node\n",
    "    heapq.heapify(open_list) \n",
    "    heapq.heappush(open_list, start_node)\n",
    "\n",
    "    # Adding a stop condition\n",
    "    outer_iterations = 0\n",
    "    max_iterations = (len(maze[0]) * len(maze) // 2)\n",
    "\n",
    "    # what squares do we search\n",
    "    adjacent_squares = ((0, -1), (0, 1), (-1, 0), (1, 0),)\n",
    "    if allow_diagonal_movement:\n",
    "        adjacent_squares = ((0, -1), (0, 1), (-1, 0), (1, 0), (-1, -1), (-1, 1), (1, -1), (1, 1),)\n",
    "\n",
    "    # Loop until you find the end\n",
    "    while len(open_list) > 0:\n",
    "        outer_iterations += 1\n",
    "\n",
    "        if outer_iterations > max_iterations:\n",
    "          # if we hit this point return the path such as it is\n",
    "          # it will not contain the destination\n",
    "          warn(\"giving up on pathfinding too many iterations\")\n",
    "          return return_path(current_node)       \n",
    "        \n",
    "        # Get the current node\n",
    "        current_node = heapq.heappop(open_list)\n",
    "        closed_list.append(current_node)\n",
    "\n",
    "        # Found the goal\n",
    "        if current_node == end_node:\n",
    "            return return_path(current_node)\n",
    "\n",
    "        # Generate children\n",
    "        children = []\n",
    "        \n",
    "        for new_position in adjacent_squares: # Adjacent squares\n",
    "\n",
    "            # Get node position\n",
    "            node_position = (current_node.position[0] + new_position[0], current_node.position[1] + new_position[1])\n",
    "\n",
    "            # Make sure within range\n",
    "            if node_position[0] > (len(maze) - 1) or node_position[0] < 0 or node_position[1] > (len(maze[len(maze)-1]) -1) or node_position[1] < 0:\n",
    "                continue\n",
    "\n",
    "            # Make sure walkable terrain\n",
    "            if maze[node_position[0]][node_position[1]] != 0:\n",
    "                continue\n",
    "\n",
    "            # Create new node\n",
    "            new_node = Node(current_node, node_position)\n",
    "\n",
    "            # Append\n",
    "            children.append(new_node)\n",
    "\n",
    "        # Loop through children\n",
    "        for child in children:\n",
    "            # Child is on the closed list\n",
    "            if len([closed_child for closed_child in closed_list if closed_child == child]) > 0:\n",
    "                continue\n",
    "\n",
    "            # Create the f, g, and h values\n",
    "            child.g = current_node.g + 1\n",
    "            child.h = ((child.position[0] - end_node.position[0]) ** 2) + ((child.position[1] - end_node.position[1]) ** 2)\n",
    "            child.f = child.g + child.h\n",
    "\n",
    "            # Child is already in the open list\n",
    "            if len([open_node for open_node in open_list if child.position == open_node.position and child.g > open_node.g]) > 0:\n",
    "                continue\n",
    "\n",
    "            # Add the child to the open list\n",
    "            heapq.heappush(open_list, child)\n",
    "\n",
    "    warn(\"Couldn't get a path to destination\")\n",
    "    return None\n",
    "\n",
    "def example(print_maze = True):\n",
    "\n",
    "    maze = [[0,0,0,0,0,0,0], \n",
    "            [0,1,0,0,0,0,0], \n",
    "            [0,0,1,0,0,0,0], \n",
    "            [0,0,0,1,0,0,0],\n",
    "            [1,1,1,1,1,1,1]]\n",
    "            \n",
    "    \n",
    "    start = (0, 0)\n",
    "    end = (len(maze)-1, len(maze[0])-1)\n",
    "\n",
    "    path = astar(maze, start, end)\n",
    "\n",
    "    if print_maze:\n",
    "      for step in path:\n",
    "        maze[step[0]][step[1]] = 2\n",
    "      \n",
    "      for row in maze:\n",
    "        line = []\n",
    "        for col in row:\n",
    "          if col == 1:\n",
    "            line.append(\"\\u2588\")\n",
    "          elif col == 0:\n",
    "            line.append(\" \")\n",
    "          elif col == 2:\n",
    "            line.append(\".\")\n",
    "        print(\"\".join(line))\n",
    "\n",
    "    print(path)\n",
    "\n",
    "if __name__ == '__main__':\n",
    "  example()\n",
    "\n"
   ]
  },
  {
   "cell_type": "markdown",
   "metadata": {
    "id": "nmg3b8OZy0eP"
   },
   "source": [
    "# References"
   ]
  },
  {
   "cell_type": "markdown",
   "metadata": {
    "id": "XLqdbS3t1FII"
   },
   "source": [
    "262588213843476. (n.d.). Astar.py. Gist. Retrieved January 25, 2022, from https://gist.github.com/ryancollingwood/32446307e976a11a1185a5394d6657bc \n",
    "Python - Nodes. Python - nodes. (n.d.). Retrieved January 25, 2022, from https://www.tutorialspoint.com/python/python_nodes.htm \n",
    "Swift, N. (2020, May 29). Easy A* (star) pathfinding. Medium. Retrieved January 25, 2022, from https://medium.com/@nicholas.w.swift/easy-a-star-pathfinding-7e6689c7f7b2 \n",
    "Roy, B. (2021, April 26). A-star (A*) search algorithm. Medium. Retrieved January 25, 2022, from https://towardsdatascience.com/a-star-a-search-algorithm-eb495fb156bb \n",
    "A* search algorithm. GeeksforGeeks. (2021, December 24). Retrieved January 25, 2022, from https://www.geeksforgeeks.org/a-search-algorithm/ \n",
    "\n",
    "\n",
    "\n",
    "\n",
    "\n"
   ]
  }
 ],
 "metadata": {
  "colab": {
   "collapsed_sections": [],
   "name": "LishaMa_EAI6000_M02_HW - bugfix.ipynb",
   "provenance": [],
   "toc_visible": true
  },
  "kernelspec": {
   "display_name": "Python 3 (ipykernel)",
   "language": "python",
   "name": "python3"
  },
  "language_info": {
   "codemirror_mode": {
    "name": "ipython",
    "version": 3
   },
   "file_extension": ".py",
   "mimetype": "text/x-python",
   "name": "python",
   "nbconvert_exporter": "python",
   "pygments_lexer": "ipython3",
   "version": "3.9.7"
  }
 },
 "nbformat": 4,
 "nbformat_minor": 1
}
